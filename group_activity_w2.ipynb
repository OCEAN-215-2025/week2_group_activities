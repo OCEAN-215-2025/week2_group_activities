{
 "cells": [
  {
   "cell_type": "markdown",
   "metadata": {},
   "source": [
    "# Week 2 group activities"
   ]
  },
  {
   "cell_type": "markdown",
   "metadata": {
    "id": "5V7HGU91gFA5"
   },
   "source": [
    "\n",
    "## Introduction to group coding exercises\n",
    "\n",
    "You will work in groups of 3-4 and work on this exercise together, submitting a single notebook file at the end of the class period. You will work together on exercises in the same groups each Thursday for the next several weeks. Introduce yourselves and and decide among yourselves which member will upload the completed notebook to Gradescope. _Make sure that everyone takes turn being the \"Uploader\" such that you cannot upload the final code two weeks in a row._\n",
    "\n",
    "### Workflow\n",
    "Each question will be timed to ensure that everyone gets to work on at least a part of every question. Group activities are not graded by completeness or correctness, but by effort. We will be breaking down each question in the following order:  \n",
    "1. Independent work \n",
    "2. Group work and discussion on coding question\n",
    "3. Group work and discussion on reflection questions\n",
    "\n",
    "You are welcome and encouraged to communicate with other groups and the teaching team when you feel stuck on a problem. \n",
    "\n",
    "As a reminder, we will be grading based best practices in coding. These include: \n",
    "1) Variables are used to store objects\n",
    "\n",
    "2) Make sure that your variable names are meaningful\n",
    "\n",
    "3) Format your code consistently\n",
    "\n",
    "4) Add comments to document your intention, as well as (less commonly) tricky implementation\n",
    "\n",
    "5) Documenting help from outside sources, such as from other groups or online documentation. \n",
    "\n",
    "6) Final notebook fully runs from start to finish. A good way to check this is restarting the kernel and fully running through all the cells to check for any errors."
   ]
  },
  {
   "cell_type": "markdown",
   "metadata": {
    "id": "Qr-uuqkqohM4"
   },
   "source": [
    "## Note here **and in the Gradescope submission** each of your group members:\n",
    "1.\n",
    "2. \n",
    "3."
   ]
  },
  {
   "cell_type": "markdown",
   "metadata": {
    "deletable": false,
    "editable": false,
    "id": "RnKs4Rfl3WxI",
    "tags": []
   },
   "source": [
    "<!-- BEGIN QUESTION -->\n",
    "\n",
    "## Question #1: Math, Variables, integers, floats, strings (30 minutes)"
   ]
  },
  {
   "cell_type": "markdown",
   "metadata": {
    "deletable": false,
    "editable": false,
    "id": "RnKs4Rfl3WxI",
    "slideshow": {
     "slide_type": ""
    },
    "tags": []
   },
   "source": [
    "For oceanic surface currents with long timescales that travel large distances (like the gulf stream), the direction of the net transport is actually 90° to the right of the surface winds in the northern hemisphere. This is why westward trade winds along the equator in the equatorial Pacific ocean pile up surface waters away from the equator, leading to the upwelling of colder water from below. The equation for this Ekman transport is as follows:\n",
    "\n",
    "$$\n",
    "U_{x} = \\frac{\\tau_y}{\\rho\\,f}, \n",
    "\\quad\n",
    "U_{y} = -\\,\\frac{\\tau_x}{\\rho\\,f}\n",
    "$$\n",
    "\n",
    "$ U_{x} $ is the zonal (east-west) ekman transport and $ U_{y} $ is the meridional (north-south) component. $ \\tau_y $ and $ \\tau_x $ are the meridional and zonal wind stress components, respectively. $ \\rho\\ $ is the density of the seawater and f is the coriolis parameter. The units are [m$^{2}$/s].\n",
    "\n",
    "Using the zonal ($U_{x}$) equation and the given constants in the code block below, calculate the zonal ekman transport for the given wind stress. Only use the variables provided and the print statement (you should not have to add any new lines besides filling out the equation, units variable, and print statement). HINT: You may need to use the `str()` function for one of these values in the print statement."
   ]
  },
  {
   "cell_type": "code",
   "execution_count": null,
   "metadata": {
    "tags": [
     "otter_answer_cell"
    ]
   },
   "outputs": [],
   "source": [
    "f = 0.935e-4 # [1/s] - A float\n",
    "rho = 1025 # [kg/m^3] - An integer\n",
    "tau_y = 0.5 # [Pascals = kg/m*s^2] - A float\n",
    "\n",
    "equation = ...\n",
    "\n",
    "units = 'm^2/s' # - A string\n",
    "\n",
    "print('The zonal ekman transport is ')"
   ]
  },
  {
   "cell_type": "markdown",
   "metadata": {
    "deletable": false,
    "editable": false
   },
   "source": [
    "<!-- END QUESTION -->\n",
    "\n",
    "## Q.1 Reflection questions (5 minutes)"
   ]
  },
  {
   "cell_type": "markdown",
   "metadata": {},
   "source": [
    "The purpose of the reflection is to inform us as instructors about students comfort level with course content. We use these answers to inform how we spend class time and design coursework in subsequent weeks. This question is graded for completeness, so please answer each question in the text box below. Be concise in your answers (max. 2 sentences). \n",
    "\n",
    "1) What do you feel you excelled at in this exercise? Why?\n",
    "\n",
    "2) What did you struggle with most in the exercise? Why?\n",
    "\n",
    "3) Is there any section of the question that you did not complete? If so, briefly describe why and the section you spent the most time on. \n",
    "\n",
    "4) Is there any topic you feel we need to revisit or review in class? Why?"
   ]
  },
  {
   "cell_type": "markdown",
   "metadata": {},
   "source": [
    "1)\n",
    "\n",
    "2)\n",
    "\n",
    "3)\n",
    "\n",
    "4)"
   ]
  },
  {
   "cell_type": "markdown",
   "metadata": {
    "deletable": false,
    "editable": false,
    "id": "kQ_S9WJvvNyH"
   },
   "source": [
    "<!-- BEGIN QUESTION -->\n",
    "\n",
    "## Question #2: Word list slicing activity (40 minutes)"
   ]
  },
  {
   "cell_type": "markdown",
   "metadata": {
    "deletable": false,
    "editable": false,
    "id": "kQ_S9WJvvNyH"
   },
   "source": [
    "There is a famous song that includes some lyrics you may have heard of before, except the words for the chorus are jumbled in the list called `rick`. Use list indexing to print out the correct lyrics. You will need to count the indices to get the right position. Write your code in the block below, and be sure to write comments describing each step of your code.\n",
    "\n",
    "1) Select the words in the variable called `rick` by slicing this list using index values and assigning them to variables. You're also welcome to use slicing and combine multiple words in a variable if more than one word appears next to each other in `rick`.\n",
    "\n",
    "*Examples*: <br>\n",
    "`Never = rick[2]` <br>\n",
    "`Give_Down = rick[3:5]`\n",
    "\n",
    "2) Create a single list of strings out of the words to write the correct lyrics. Assign your new list of strings to the string called `lyrics`.\n",
    "3) The rest of the lyrics are \"never gonna run around and desert you\". Using the `extend` function on `lyrics`, add the rest of the lyrics to your lyrics list. Think about what kind of argument that `extend` uses."
   ]
  },
  {
   "cell_type": "code",
   "execution_count": null,
   "metadata": {
    "editable": false,
    "slideshow": {
     "slide_type": ""
    },
    "tags": [
     "otter_answer_cell"
    ]
   },
   "outputs": [],
   "source": [
    "#don't change this original string\n",
    "rick = ['Up', 'Let', 'Never', 'Give', 'Down', 'Gonna', 'You']"
   ]
  },
  {
   "cell_type": "code",
   "execution_count": null,
   "metadata": {
    "tags": [
     "otter_answer_cell"
    ]
   },
   "outputs": [],
   "source": [
    "# Store variables for each word here\n",
    "\n",
    "# Use the variables to make a new list (with the correct order) named `lyrics`\n",
    "lyrics = ...\n",
    "print(lyrics)\n",
    "\n",
    "# Modify the variable `lyrics` to include the final verse\n",
    "...\n",
    "print(lyrics)"
   ]
  },
  {
   "cell_type": "markdown",
   "metadata": {
    "deletable": false,
    "editable": false,
    "id": "I1NYRpyPgD_X"
   },
   "source": [
    "<!-- END QUESTION -->\n",
    "\n",
    "## Q.2 Reflection questions (5 minutes)"
   ]
  },
  {
   "cell_type": "markdown",
   "metadata": {
    "editable": true,
    "id": "I1NYRpyPgD_X",
    "slideshow": {
     "slide_type": ""
    },
    "tags": []
   },
   "source": [
    "The purpose of the reflection is to inform us as instructors about students comfort level with course content. We use these answers to inform how we spend class time and design coursework in subsequent weeks. This question is graded for completeness, so please answer each question in the text box below. Be concise in your answers (max. 2 sentences). \n",
    "\n",
    "1) What do you feel you excelled at in this exercise? Why?\n",
    "\n",
    "2) What did you struggle with most in the exercise? Why?\n",
    "\n",
    "3) Is there any section of the question that you did not complete? If so, briefly describe why and the section you spent the most time on. \n",
    "\n",
    "4) Is there any topic you feel we need to revisit or review in class? Why?"
   ]
  },
  {
   "cell_type": "markdown",
   "metadata": {
    "id": "0JnMnPXdBsQL"
   },
   "source": [
    "1)\n",
    "\n",
    "2)\n",
    "\n",
    "3)\n",
    "\n",
    "4)"
   ]
  },
  {
   "cell_type": "markdown",
   "metadata": {
    "deletable": false,
    "editable": false
   },
   "source": [
    "## Check that your codes run without errors"
   ]
  },
  {
   "cell_type": "markdown",
   "metadata": {
    "deletable": false,
    "editable": false,
    "otter": {
     "tests": [
      "completion"
     ]
    }
   },
   "source": [
    "Please check that your code runs without error when the notebook is executed from top to bottom. You may find the \"Restart the kernel and run all cells\" option (selectable using the `⏩` icon) useful."
   ]
  }
 ],
 "metadata": {
  "colab": {
   "collapsed_sections": [],
   "provenance": []
  },
  "kernelspec": {
   "display_name": "Python 3 (ipykernel)",
   "language": "python",
   "name": "python3"
  },
  "language_info": {
   "codemirror_mode": {
    "name": "ipython",
    "version": 3
   },
   "file_extension": ".py",
   "mimetype": "text/x-python",
   "name": "python",
   "nbconvert_exporter": "python",
   "pygments_lexer": "ipython3",
   "version": "3.11.13"
  },
  "otter": {
   "OK_FORMAT": true,
   "tests": {
    "completion": {
     "name": "completion",
     "points": 0,
     "suites": [
      {
       "cases": [],
       "scored": true,
       "setup": "",
       "teardown": "",
       "type": "doctest"
      }
     ]
    }
   }
  }
 },
 "nbformat": 4,
 "nbformat_minor": 4
}
